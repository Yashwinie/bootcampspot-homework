{
 "cells": [
  {
   "cell_type": "markdown",
   "metadata": {},
   "source": [
    "### Note\n",
    "* Instructions have been included for each segment. You do not have to follow them exactly, but they are included to help you think through the steps."
   ]
  },
  {
   "cell_type": "code",
   "execution_count": 9,
   "metadata": {},
   "outputs": [],
   "source": [
    "# Dependencies and Setup\n",
    "import pandas as pd\n",
    "import numpy as np\n",
    "\n",
    "# File to Load (Remember to Change These)\n",
    "school_data_to_load = \"Resources/schools_complete.csv\"\n",
    "student_data_to_load = \"Resources/students_complete.csv\"\n",
    "\n",
    "# Read School and Student Data File and store into Pandas Data Frames\n",
    "school_data = pd.read_csv(school_data_to_load)\n",
    "student_data = pd.read_csv(student_data_to_load)\n",
    "\n",
    "# Combine the data into a single dataset\n",
    "school_data_complete = pd.merge(student_data, school_data, how=\"left\", on=[\"school_name\", \"school_name\"])"
   ]
  },
  {
   "cell_type": "markdown",
   "metadata": {},
   "source": [
    "## District Summary\n",
    "\n",
    "* Calculate the total number of schools\n",
    "\n",
    "* Calculate the total number of students\n",
    "\n",
    "* Calculate the total budget\n",
    "\n",
    "* Calculate the average math score \n",
    "\n",
    "* Calculate the average reading score\n",
    "\n",
    "* Calculate the overall passing rate (overall average score), i.e. (avg. math score + avg. reading score)/2\n",
    "\n",
    "* Calculate the percentage of students with a passing math score (70 or greater)\n",
    "\n",
    "* Calculate the percentage of students with a passing reading score (70 or greater)\n",
    "\n",
    "* Create a dataframe to hold the above results\n",
    "\n",
    "* Optional: give the displayed data cleaner formatting"
   ]
  },
  {
   "cell_type": "code",
   "execution_count": 10,
   "metadata": {},
   "outputs": [
    {
     "data": {
      "text/html": [
       "<div>\n",
       "<style scoped>\n",
       "    .dataframe tbody tr th:only-of-type {\n",
       "        vertical-align: middle;\n",
       "    }\n",
       "\n",
       "    .dataframe tbody tr th {\n",
       "        vertical-align: top;\n",
       "    }\n",
       "\n",
       "    .dataframe thead th {\n",
       "        text-align: right;\n",
       "    }\n",
       "</style>\n",
       "<table border=\"1\" class=\"dataframe\">\n",
       "  <thead>\n",
       "    <tr style=\"text-align: right;\">\n",
       "      <th></th>\n",
       "      <th>Total Schools</th>\n",
       "      <th>Total Students</th>\n",
       "      <th>Total Budget</th>\n",
       "      <th>Average Math Score</th>\n",
       "      <th>Average Reading Score</th>\n",
       "      <th>% Passing Math</th>\n",
       "      <th>% Passing Reading</th>\n",
       "      <th>% Overall Passing Rate</th>\n",
       "    </tr>\n",
       "  </thead>\n",
       "  <tbody>\n",
       "    <tr>\n",
       "      <th>0</th>\n",
       "      <td>15</td>\n",
       "      <td>39,170</td>\n",
       "      <td>$24,649,428.00</td>\n",
       "      <td>78.99%</td>\n",
       "      <td>81.88%</td>\n",
       "      <td>74.98%</td>\n",
       "      <td>85.81%</td>\n",
       "      <td>80.43%</td>\n",
       "    </tr>\n",
       "  </tbody>\n",
       "</table>\n",
       "</div>"
      ],
      "text/plain": [
       "   Total Schools Total Students    Total Budget Average Math Score  \\\n",
       "0             15         39,170  $24,649,428.00             78.99%   \n",
       "\n",
       "  Average Reading Score % Passing Math % Passing Reading  \\\n",
       "0                81.88%         74.98%            85.81%   \n",
       "\n",
       "  % Overall Passing Rate  \n",
       "0                 80.43%  "
      ]
     },
     "execution_count": 10,
     "metadata": {},
     "output_type": "execute_result"
    }
   ],
   "source": [
    "total_schools = school_data_complete['School ID'].max() + 1\n",
    "\n",
    "total_students = school_data_complete['Student ID'].count()\n",
    "\n",
    "budgets = school_data_complete['budget'].unique()\n",
    "total_budget = budgets.sum()\n",
    "\n",
    "av_math_score = school_data_complete['math_score'].mean()\n",
    "av_reading_score = school_data_complete['reading_score'].mean()\n",
    "\n",
    "overall_passing_rate = (av_math_score + av_reading_score)/2\n",
    "\n",
    "students_passing_math = school_data_complete['math_score'] >= 70\n",
    "percent_passing_math = (students_passing_math.sum()/total_students) * 100\n",
    "\n",
    "students_passing_reading = school_data_complete['reading_score'] >= 70\n",
    "percent_passing_reading = (students_passing_reading.sum()/total_students) * 100\n",
    "\n",
    "district_summary_df = pd.DataFrame({\n",
    "    'Total Schools': [total_schools], 'Total Students': [total_students], 'Total Budget': [total_budget], \n",
    "    'Average Math Score': [av_math_score], 'Average Reading Score': [av_reading_score], \n",
    "    '% Passing Math': [percent_passing_math], '% Passing Reading': [percent_passing_reading], \n",
    "    '% Overall Passing Rate': [overall_passing_rate]\n",
    "                                })\n",
    "\n",
    "district_summary_df['Total Students'] = district_summary_df['Total Students'].apply('{:,}'.format)\n",
    "district_summary_df['Total Budget'] = district_summary_df['Total Budget'].apply('${:,.2f}'.format)\n",
    "district_summary_df['Average Math Score'] = district_summary_df['Average Math Score'].apply('{:.2f}%'.format)\n",
    "district_summary_df['Average Reading Score'] = district_summary_df['Average Reading Score'].apply('{:.2f}%'.format)\n",
    "district_summary_df['% Passing Math'] = district_summary_df['% Passing Math'].apply('{:.2f}%'.format)\n",
    "district_summary_df['% Passing Reading'] = district_summary_df['% Passing Reading'].apply('{:.2f}%'.format)\n",
    "district_summary_df['% Overall Passing Rate'] = district_summary_df['% Overall Passing Rate'].apply('{:.2f}%'.format)\n",
    "\n",
    "district_summary_df"
   ]
  },
  {
   "cell_type": "markdown",
   "metadata": {},
   "source": [
    "* Create an overview table that summarizes key metrics about each school, including:\n",
    "  * School Name\n",
    "  * School Type\n",
    "  * Total Students\n",
    "  * Total School Budget\n",
    "  * Per Student Budget\n",
    "  * Average Math Score\n",
    "  * Average Reading Score\n",
    "  * % Passing Math\n",
    "  * % Passing Reading\n",
    "  * Overall Passing Rate (Average of the above two)\n",
    "  \n",
    "* Create a dataframe to hold the above results"
   ]
  },
  {
   "cell_type": "code",
   "execution_count": 13,
   "metadata": {
    "scrolled": true
   },
   "outputs": [
    {
     "ename": "SyntaxError",
     "evalue": "invalid syntax (<ipython-input-13-8a7785e1452b>, line 19)",
     "output_type": "error",
     "traceback": [
      "\u001b[0;36m  File \u001b[0;32m\"<ipython-input-13-8a7785e1452b>\"\u001b[0;36m, line \u001b[0;32m19\u001b[0m\n\u001b[0;31m    passingmathscores = school_data_complete[(school_data_ complete['math_score'] >= 70)]['school_name'].value_counts()\u001b[0m\n\u001b[0m                                                                  ^\u001b[0m\n\u001b[0;31mSyntaxError\u001b[0m\u001b[0;31m:\u001b[0m invalid syntax\n"
     ]
    }
   ],
   "source": [
    "school_names = school_data_complete['school_name'].unique()\n",
    "\n",
    "school_groups = school_data_complete.groupby(['school_name'])\n",
    "\n",
    "school_type = school_groups['type'].unique()\n",
    "\n",
    "total_schoolstudents = school_groups['Student ID'].count()\n",
    "\n",
    "total_schoolbudget = school_groups['budget'].unique()\n",
    "total_schoolbudget = total_schoolbudget.astype(int)\n",
    "\n",
    "school_size = school_groups['size'].count()\n",
    "perstudent_schoolbudget = total_schoolbudget / school_size\n",
    "\n",
    "schools_av_math = school_groups['math_score'].mean()\n",
    "\n",
    "schools_av_reading = school_groups['reading_score'].mean()\n",
    "\n",
    "passingmathscores = school_data_complete[(school_data_ complete['math_score'] >= 70)]['school_name'].value_counts()\n",
    "schools_percentpassingmath = passingmathscores/total_schoolstudents * 100\n",
    "\n",
    "passingreadingscores = school_data_complete[(school_data_complete['reading_score'] >= 70)]['school_name'].value_counts()\n",
    "schools_percentpassingreading = passingreadingscores/total_schoolstudents * 100\n",
    "\n",
    "schools_overallpassingrate = (schools_percentpassingmath + schools_percentpassingreading)/2"
   ]
  },
  {
   "cell_type": "code",
   "execution_count": 15,
   "metadata": {},
   "outputs": [
    {
     "ename": "NameError",
     "evalue": "name 'school_type' is not defined",
     "output_type": "error",
     "traceback": [
      "\u001b[0;31m---------------------------------------------------------------------------\u001b[0m",
      "\u001b[0;31mNameError\u001b[0m                                 Traceback (most recent call last)",
      "\u001b[0;32m<ipython-input-15-a908148a18d7>\u001b[0m in \u001b[0;36m<module>\u001b[0;34m\u001b[0m\n\u001b[1;32m      1\u001b[0m school_summary_df = pd.DataFrame({\n\u001b[0;32m----> 2\u001b[0;31m     \u001b[0;34m'School Type'\u001b[0m\u001b[0;34m:\u001b[0m \u001b[0mschool_type\u001b[0m\u001b[0;34m,\u001b[0m \u001b[0;34m'Total Students'\u001b[0m\u001b[0;34m:\u001b[0m \u001b[0mtotal_schoolstudents\u001b[0m\u001b[0;34m,\u001b[0m\u001b[0;34m\u001b[0m\u001b[0;34m\u001b[0m\u001b[0m\n\u001b[0m\u001b[1;32m      3\u001b[0m     \u001b[0;34m'Total School Budget'\u001b[0m\u001b[0;34m:\u001b[0m \u001b[0mtotal_schoolbudget\u001b[0m\u001b[0;34m,\u001b[0m \u001b[0;34m'Per Student Budget'\u001b[0m\u001b[0;34m:\u001b[0m \u001b[0mperstudent_schoolbudget\u001b[0m\u001b[0;34m,\u001b[0m\u001b[0;34m\u001b[0m\u001b[0;34m\u001b[0m\u001b[0m\n\u001b[1;32m      4\u001b[0m     \u001b[0;34m'Average Math Score'\u001b[0m\u001b[0;34m:\u001b[0m \u001b[0mschools_av_math\u001b[0m\u001b[0;34m,\u001b[0m \u001b[0;34m'Average Reading Score'\u001b[0m\u001b[0;34m:\u001b[0m \u001b[0mschools_av_reading\u001b[0m\u001b[0;34m,\u001b[0m\u001b[0;34m\u001b[0m\u001b[0;34m\u001b[0m\u001b[0m\n\u001b[1;32m      5\u001b[0m     \u001b[0;34m'% Passing Math'\u001b[0m\u001b[0;34m:\u001b[0m \u001b[0mschools_percentpassingmath\u001b[0m\u001b[0;34m,\u001b[0m \u001b[0;34m'% Passing Reading'\u001b[0m\u001b[0;34m:\u001b[0m \u001b[0mschools_percentpassingreading\u001b[0m\u001b[0;34m,\u001b[0m\u001b[0;34m\u001b[0m\u001b[0;34m\u001b[0m\u001b[0m\n",
      "\u001b[0;31mNameError\u001b[0m: name 'school_type' is not defined"
     ]
    }
   ],
   "source": [
    "school_summary_df = pd.DataFrame({\n",
    "    'School Type': school_type, 'Total Students': total_schoolstudents, \n",
    "    'Total School Budget': total_schoolbudget, 'Per Student Budget': perstudent_schoolbudget, \n",
    "    'Average Math Score': schools_av_math, 'Average Reading Score': schools_av_reading,\n",
    "    '% Passing Math': schools_percentpassingmath, '% Passing Reading': schools_percentpassingreading,\n",
    "    'Overall Passing Rate': schools_overallpassingrate\n",
    "})\n",
    "\n",
    "\n",
    "school_summary_df['Total Students'] = school_summary_df['Total Students'].apply('{:,}'.format)\n",
    "school_summary_df['Total School Budget'] = school_summary_df['Total School Budget'].apply('${:,.2f}'.format)\n",
    "school_summary_df['Per Student Budget'] = school_summary_df['Per Student Budget'].apply('${:,.2f}'.format)\n",
    "school_summary_df['Average Math Score'] = school_summary_df['Average Math Score'].apply('{:,.2f}%'.format)\n",
    "school_summary_df['Average Reading Score'] = school_summary_df['Average Reading Score'].apply('{:,.2f}%'.format)\n",
    "school_summary_df['% Passing Math'] = school_summary_df['% Passing Math'].apply('{:,.2f}%'.format)\n",
    "school_summary_df['% Passing Reading'] = school_summary_df['% Passing Reading'].apply('{:,.2f}%'.format)\n",
    "school_summary_df['Overall Passing Rate'] = school_summary_df['Overall Passing Rate'].apply('{:,.2f}%'.format)\n",
    "\n",
    "school_summary_df"
   ]
  },
  {
   "cell_type": "markdown",
   "metadata": {},
   "source": [
    "## Top Performing Schools (By Passing Rate)"
   ]
  },
  {
   "cell_type": "markdown",
   "metadata": {},
   "source": [
    "* Sort and display the top five schools in overall passing rate"
   ]
  },
  {
   "cell_type": "code",
   "execution_count": 16,
   "metadata": {},
   "outputs": [
    {
     "ename": "NameError",
     "evalue": "name 'school_summary_df' is not defined",
     "output_type": "error",
     "traceback": [
      "\u001b[0;31m---------------------------------------------------------------------------\u001b[0m",
      "\u001b[0;31mNameError\u001b[0m                                 Traceback (most recent call last)",
      "\u001b[0;32m<ipython-input-16-4b63202a1cc6>\u001b[0m in \u001b[0;36m<module>\u001b[0;34m\u001b[0m\n\u001b[0;32m----> 1\u001b[0;31m \u001b[0mtop_five_schools\u001b[0m \u001b[0;34m=\u001b[0m \u001b[0mschool_summary_df\u001b[0m\u001b[0;34m.\u001b[0m\u001b[0msort_values\u001b[0m\u001b[0;34m(\u001b[0m\u001b[0;34m[\u001b[0m\u001b[0;34m'Overall Passing Rate'\u001b[0m\u001b[0;34m]\u001b[0m\u001b[0;34m,\u001b[0m \u001b[0mascending\u001b[0m\u001b[0;34m=\u001b[0m\u001b[0;32mFalse\u001b[0m\u001b[0;34m)\u001b[0m\u001b[0;34m\u001b[0m\u001b[0;34m\u001b[0m\u001b[0m\n\u001b[0m\u001b[1;32m      2\u001b[0m \u001b[0mtop_five_schools\u001b[0m\u001b[0;34m.\u001b[0m\u001b[0mhead\u001b[0m\u001b[0;34m(\u001b[0m\u001b[0;36m5\u001b[0m\u001b[0;34m)\u001b[0m\u001b[0;34m\u001b[0m\u001b[0;34m\u001b[0m\u001b[0m\n",
      "\u001b[0;31mNameError\u001b[0m: name 'school_summary_df' is not defined"
     ]
    }
   ],
   "source": [
    "top_five_schools = school_summary_df.sort_values(['Overall Passing Rate'], ascending=False)\n",
    "top_five_schools.head(5)"
   ]
  },
  {
   "cell_type": "markdown",
   "metadata": {},
   "source": [
    "## Bottom Performing Schools (By Passing Rate)"
   ]
  },
  {
   "cell_type": "markdown",
   "metadata": {},
   "source": [
    "* Sort and display the five worst-performing schools"
   ]
  },
  {
   "cell_type": "code",
   "execution_count": 17,
   "metadata": {},
   "outputs": [
    {
     "ename": "NameError",
     "evalue": "name 'school_summary_df' is not defined",
     "output_type": "error",
     "traceback": [
      "\u001b[0;31m---------------------------------------------------------------------------\u001b[0m",
      "\u001b[0;31mNameError\u001b[0m                                 Traceback (most recent call last)",
      "\u001b[0;32m<ipython-input-17-0d81606e2d0c>\u001b[0m in \u001b[0;36m<module>\u001b[0;34m\u001b[0m\n\u001b[0;32m----> 1\u001b[0;31m \u001b[0mbottom_five_schools\u001b[0m \u001b[0;34m=\u001b[0m \u001b[0mschool_summary_df\u001b[0m\u001b[0;34m.\u001b[0m\u001b[0msort_values\u001b[0m\u001b[0;34m(\u001b[0m\u001b[0;34m[\u001b[0m\u001b[0;34m'Overall Passing Rate'\u001b[0m\u001b[0;34m]\u001b[0m\u001b[0;34m,\u001b[0m \u001b[0mascending\u001b[0m\u001b[0;34m=\u001b[0m\u001b[0;32mTrue\u001b[0m\u001b[0;34m)\u001b[0m\u001b[0;34m\u001b[0m\u001b[0;34m\u001b[0m\u001b[0m\n\u001b[0m\u001b[1;32m      2\u001b[0m \u001b[0mbottom_five_schools\u001b[0m\u001b[0;34m.\u001b[0m\u001b[0mhead\u001b[0m\u001b[0;34m(\u001b[0m\u001b[0;36m5\u001b[0m\u001b[0;34m)\u001b[0m\u001b[0;34m\u001b[0m\u001b[0;34m\u001b[0m\u001b[0m\n",
      "\u001b[0;31mNameError\u001b[0m: name 'school_summary_df' is not defined"
     ]
    }
   ],
   "source": [
    "bottom_five_schools = school_summary_df.sort_values(['Overall Passing Rate'], ascending=True)\n",
    "bottom_five_schools.head(5)"
   ]
  },
  {
   "cell_type": "markdown",
   "metadata": {
    "collapsed": true
   },
   "source": [
    "## Math Scores by Grade"
   ]
  },
  {
   "cell_type": "markdown",
   "metadata": {},
   "source": [
    "* Create a table that lists the average Reading Score for students of each grade level (9th, 10th, 11th, 12th) at each school.\n",
    "\n",
    "  * Create a pandas series for each grade. Hint: use a conditional statement.\n",
    "  \n",
    "  * Group each series by school\n",
    "  \n",
    "  * Combine the series into a dataframe\n",
    "  \n",
    "  * Optional: give the displayed data cleaner formatting"
   ]
  },
  {
   "cell_type": "code",
   "execution_count": 18,
   "metadata": {},
   "outputs": [],
   "source": [
    "avmathscores_9grade = school_data_complete.loc[(school_data_complete['grade'] == '9th')].groupby('school_name')['math_score'].mean()\n",
    "\n",
    "avmathscores_10grade = school_data_complete.loc[(school_data_complete['grade'] == '10th')].groupby('school_name')['math_score'].mean()\n",
    "\n",
    "avmathscores_11grade = school_data_complete.loc[(school_data_complete['grade'] == '11th')].groupby('school_name')['math_score'].mean()\n",
    "\n",
    "avmathscores_12grade = school_data_complete.loc[(school_data_complete['grade'] == '12th')].groupby('school_name')['math_score'].mean()"
   ]
  },
  {
   "cell_type": "code",
   "execution_count": 12,
   "metadata": {},
   "outputs": [
    {
     "data": {
      "text/html": [
       "<div>\n",
       "<style scoped>\n",
       "    .dataframe tbody tr th:only-of-type {\n",
       "        vertical-align: middle;\n",
       "    }\n",
       "\n",
       "    .dataframe tbody tr th {\n",
       "        vertical-align: top;\n",
       "    }\n",
       "\n",
       "    .dataframe thead th {\n",
       "        text-align: right;\n",
       "    }\n",
       "</style>\n",
       "<table border=\"1\" class=\"dataframe\">\n",
       "  <thead>\n",
       "    <tr style=\"text-align: right;\">\n",
       "      <th></th>\n",
       "      <th>9th grade</th>\n",
       "      <th>10th grade</th>\n",
       "      <th>11th grade</th>\n",
       "      <th>12th grade</th>\n",
       "    </tr>\n",
       "    <tr>\n",
       "      <th>school_name</th>\n",
       "      <th></th>\n",
       "      <th></th>\n",
       "      <th></th>\n",
       "      <th></th>\n",
       "    </tr>\n",
       "  </thead>\n",
       "  <tbody>\n",
       "    <tr>\n",
       "      <th>Bailey High School</th>\n",
       "      <td>77.08%</td>\n",
       "      <td>77.00%</td>\n",
       "      <td>77.52%</td>\n",
       "      <td>76.49%</td>\n",
       "    </tr>\n",
       "    <tr>\n",
       "      <th>Cabrera High School</th>\n",
       "      <td>83.09%</td>\n",
       "      <td>83.15%</td>\n",
       "      <td>82.77%</td>\n",
       "      <td>83.28%</td>\n",
       "    </tr>\n",
       "    <tr>\n",
       "      <th>Figueroa High School</th>\n",
       "      <td>76.40%</td>\n",
       "      <td>76.54%</td>\n",
       "      <td>76.88%</td>\n",
       "      <td>77.15%</td>\n",
       "    </tr>\n",
       "    <tr>\n",
       "      <th>Ford High School</th>\n",
       "      <td>77.36%</td>\n",
       "      <td>77.67%</td>\n",
       "      <td>76.92%</td>\n",
       "      <td>76.18%</td>\n",
       "    </tr>\n",
       "    <tr>\n",
       "      <th>Griffin High School</th>\n",
       "      <td>82.04%</td>\n",
       "      <td>84.23%</td>\n",
       "      <td>83.84%</td>\n",
       "      <td>83.36%</td>\n",
       "    </tr>\n",
       "    <tr>\n",
       "      <th>Hernandez High School</th>\n",
       "      <td>77.44%</td>\n",
       "      <td>77.34%</td>\n",
       "      <td>77.14%</td>\n",
       "      <td>77.19%</td>\n",
       "    </tr>\n",
       "    <tr>\n",
       "      <th>Holden High School</th>\n",
       "      <td>83.79%</td>\n",
       "      <td>83.43%</td>\n",
       "      <td>85.00%</td>\n",
       "      <td>82.86%</td>\n",
       "    </tr>\n",
       "    <tr>\n",
       "      <th>Huang High School</th>\n",
       "      <td>77.03%</td>\n",
       "      <td>75.91%</td>\n",
       "      <td>76.45%</td>\n",
       "      <td>77.23%</td>\n",
       "    </tr>\n",
       "    <tr>\n",
       "      <th>Johnson High School</th>\n",
       "      <td>77.19%</td>\n",
       "      <td>76.69%</td>\n",
       "      <td>77.49%</td>\n",
       "      <td>76.86%</td>\n",
       "    </tr>\n",
       "    <tr>\n",
       "      <th>Pena High School</th>\n",
       "      <td>83.63%</td>\n",
       "      <td>83.37%</td>\n",
       "      <td>84.33%</td>\n",
       "      <td>84.12%</td>\n",
       "    </tr>\n",
       "    <tr>\n",
       "      <th>Rodriguez High School</th>\n",
       "      <td>76.86%</td>\n",
       "      <td>76.61%</td>\n",
       "      <td>76.40%</td>\n",
       "      <td>77.69%</td>\n",
       "    </tr>\n",
       "    <tr>\n",
       "      <th>Shelton High School</th>\n",
       "      <td>83.42%</td>\n",
       "      <td>82.92%</td>\n",
       "      <td>83.38%</td>\n",
       "      <td>83.78%</td>\n",
       "    </tr>\n",
       "    <tr>\n",
       "      <th>Thomas High School</th>\n",
       "      <td>83.59%</td>\n",
       "      <td>83.09%</td>\n",
       "      <td>83.50%</td>\n",
       "      <td>83.50%</td>\n",
       "    </tr>\n",
       "    <tr>\n",
       "      <th>Wilson High School</th>\n",
       "      <td>83.09%</td>\n",
       "      <td>83.72%</td>\n",
       "      <td>83.20%</td>\n",
       "      <td>83.04%</td>\n",
       "    </tr>\n",
       "    <tr>\n",
       "      <th>Wright High School</th>\n",
       "      <td>83.26%</td>\n",
       "      <td>84.01%</td>\n",
       "      <td>83.84%</td>\n",
       "      <td>83.64%</td>\n",
       "    </tr>\n",
       "  </tbody>\n",
       "</table>\n",
       "</div>"
      ],
      "text/plain": [
       "                      9th grade 10th grade 11th grade 12th grade\n",
       "school_name                                                     \n",
       "Bailey High School       77.08%     77.00%     77.52%     76.49%\n",
       "Cabrera High School      83.09%     83.15%     82.77%     83.28%\n",
       "Figueroa High School     76.40%     76.54%     76.88%     77.15%\n",
       "Ford High School         77.36%     77.67%     76.92%     76.18%\n",
       "Griffin High School      82.04%     84.23%     83.84%     83.36%\n",
       "Hernandez High School    77.44%     77.34%     77.14%     77.19%\n",
       "Holden High School       83.79%     83.43%     85.00%     82.86%\n",
       "Huang High School        77.03%     75.91%     76.45%     77.23%\n",
       "Johnson High School      77.19%     76.69%     77.49%     76.86%\n",
       "Pena High School         83.63%     83.37%     84.33%     84.12%\n",
       "Rodriguez High School    76.86%     76.61%     76.40%     77.69%\n",
       "Shelton High School      83.42%     82.92%     83.38%     83.78%\n",
       "Thomas High School       83.59%     83.09%     83.50%     83.50%\n",
       "Wilson High School       83.09%     83.72%     83.20%     83.04%\n",
       "Wright High School       83.26%     84.01%     83.84%     83.64%"
      ]
     },
     "execution_count": 12,
     "metadata": {},
     "output_type": "execute_result"
    }
   ],
   "source": [
    "avmathscores_bygrade_df = pd.DataFrame({'9th grade': avmathscores_9grade, '10th grade': avmathscores_10grade, \n",
    "                                     '11th grade': avmathscores_11grade, '12th grade': avmathscores_12grade})\n",
    "\n",
    "avmathscores_bygrade_df['9th grade'] = avmathscores_bygrade_df['9th grade'].apply('{:,.2f}%'.format)\n",
    "avmathscores_bygrade_df['10th grade'] = avmathscores_bygrade_df['10th grade'].apply('{:,.2f}%'.format)\n",
    "avmathscores_bygrade_df['11th grade'] = avmathscores_bygrade_df['11th grade'].apply('{:,.2f}%'.format)\n",
    "avmathscores_bygrade_df['12th grade'] = avmathscores_bygrade_df['12th grade'].apply('{:,.2f}%'.format)\n",
    "\n",
    "avmathscores_bygrade_df"
   ]
  },
  {
   "cell_type": "markdown",
   "metadata": {},
   "source": [
    "## Reading Score by Grade "
   ]
  },
  {
   "cell_type": "markdown",
   "metadata": {},
   "source": [
    "* Perform the same operations as above for reading scores"
   ]
  },
  {
   "cell_type": "code",
   "execution_count": 20,
   "metadata": {},
   "outputs": [],
   "source": [
    "avreadingscores_9grade = school_data_complete.loc[(school_data_complete['grade'] == '9th')].groupby('school_name')['reading_score'].mean()\n",
    "\n",
    "avreadingscores_10grade = school_data_complete.loc[(school_data_complete['grade'] == '10th')].groupby('school_name')['reading_score'].mean()\n",
    "\n",
    "avreadingscores_11grade = school_data_complete.loc[(school_data_complete['grade'] == '11th')].groupby('school_name')['reading_score'].mean()\n",
    "\n",
    "avreadingscores_12grade = school_data_complete.loc[(school_data_complete['grade'] == '12th')].groupby('school_name')['reading_score'].mean()"
   ]
  },
  {
   "cell_type": "code",
   "execution_count": 21,
   "metadata": {},
   "outputs": [
    {
     "data": {
      "text/html": [
       "<div>\n",
       "<style scoped>\n",
       "    .dataframe tbody tr th:only-of-type {\n",
       "        vertical-align: middle;\n",
       "    }\n",
       "\n",
       "    .dataframe tbody tr th {\n",
       "        vertical-align: top;\n",
       "    }\n",
       "\n",
       "    .dataframe thead th {\n",
       "        text-align: right;\n",
       "    }\n",
       "</style>\n",
       "<table border=\"1\" class=\"dataframe\">\n",
       "  <thead>\n",
       "    <tr style=\"text-align: right;\">\n",
       "      <th></th>\n",
       "      <th>9th grade</th>\n",
       "      <th>10th grade</th>\n",
       "      <th>11th grade</th>\n",
       "      <th>12th grade</th>\n",
       "    </tr>\n",
       "    <tr>\n",
       "      <th>school_name</th>\n",
       "      <th></th>\n",
       "      <th></th>\n",
       "      <th></th>\n",
       "      <th></th>\n",
       "    </tr>\n",
       "  </thead>\n",
       "  <tbody>\n",
       "    <tr>\n",
       "      <th>Bailey High School</th>\n",
       "      <td>81.30%</td>\n",
       "      <td>80.91%</td>\n",
       "      <td>80.95%</td>\n",
       "      <td>80.91%</td>\n",
       "    </tr>\n",
       "    <tr>\n",
       "      <th>Cabrera High School</th>\n",
       "      <td>83.68%</td>\n",
       "      <td>84.25%</td>\n",
       "      <td>83.79%</td>\n",
       "      <td>84.29%</td>\n",
       "    </tr>\n",
       "    <tr>\n",
       "      <th>Figueroa High School</th>\n",
       "      <td>81.20%</td>\n",
       "      <td>81.41%</td>\n",
       "      <td>80.64%</td>\n",
       "      <td>81.38%</td>\n",
       "    </tr>\n",
       "    <tr>\n",
       "      <th>Ford High School</th>\n",
       "      <td>80.63%</td>\n",
       "      <td>81.26%</td>\n",
       "      <td>80.40%</td>\n",
       "      <td>80.66%</td>\n",
       "    </tr>\n",
       "    <tr>\n",
       "      <th>Griffin High School</th>\n",
       "      <td>83.37%</td>\n",
       "      <td>83.71%</td>\n",
       "      <td>84.29%</td>\n",
       "      <td>84.01%</td>\n",
       "    </tr>\n",
       "    <tr>\n",
       "      <th>Hernandez High School</th>\n",
       "      <td>80.87%</td>\n",
       "      <td>80.66%</td>\n",
       "      <td>81.40%</td>\n",
       "      <td>80.86%</td>\n",
       "    </tr>\n",
       "    <tr>\n",
       "      <th>Holden High School</th>\n",
       "      <td>83.68%</td>\n",
       "      <td>83.32%</td>\n",
       "      <td>83.82%</td>\n",
       "      <td>84.70%</td>\n",
       "    </tr>\n",
       "    <tr>\n",
       "      <th>Huang High School</th>\n",
       "      <td>81.29%</td>\n",
       "      <td>81.51%</td>\n",
       "      <td>81.42%</td>\n",
       "      <td>80.31%</td>\n",
       "    </tr>\n",
       "    <tr>\n",
       "      <th>Johnson High School</th>\n",
       "      <td>81.26%</td>\n",
       "      <td>80.77%</td>\n",
       "      <td>80.62%</td>\n",
       "      <td>81.23%</td>\n",
       "    </tr>\n",
       "    <tr>\n",
       "      <th>Pena High School</th>\n",
       "      <td>83.81%</td>\n",
       "      <td>83.61%</td>\n",
       "      <td>84.34%</td>\n",
       "      <td>84.59%</td>\n",
       "    </tr>\n",
       "    <tr>\n",
       "      <th>Rodriguez High School</th>\n",
       "      <td>80.99%</td>\n",
       "      <td>80.63%</td>\n",
       "      <td>80.86%</td>\n",
       "      <td>80.38%</td>\n",
       "    </tr>\n",
       "    <tr>\n",
       "      <th>Shelton High School</th>\n",
       "      <td>84.12%</td>\n",
       "      <td>83.44%</td>\n",
       "      <td>84.37%</td>\n",
       "      <td>82.78%</td>\n",
       "    </tr>\n",
       "    <tr>\n",
       "      <th>Thomas High School</th>\n",
       "      <td>83.73%</td>\n",
       "      <td>84.25%</td>\n",
       "      <td>83.59%</td>\n",
       "      <td>83.83%</td>\n",
       "    </tr>\n",
       "    <tr>\n",
       "      <th>Wilson High School</th>\n",
       "      <td>83.94%</td>\n",
       "      <td>84.02%</td>\n",
       "      <td>83.76%</td>\n",
       "      <td>84.32%</td>\n",
       "    </tr>\n",
       "    <tr>\n",
       "      <th>Wright High School</th>\n",
       "      <td>83.83%</td>\n",
       "      <td>83.81%</td>\n",
       "      <td>84.16%</td>\n",
       "      <td>84.07%</td>\n",
       "    </tr>\n",
       "  </tbody>\n",
       "</table>\n",
       "</div>"
      ],
      "text/plain": [
       "                      9th grade 10th grade 11th grade 12th grade\n",
       "school_name                                                     \n",
       "Bailey High School       81.30%     80.91%     80.95%     80.91%\n",
       "Cabrera High School      83.68%     84.25%     83.79%     84.29%\n",
       "Figueroa High School     81.20%     81.41%     80.64%     81.38%\n",
       "Ford High School         80.63%     81.26%     80.40%     80.66%\n",
       "Griffin High School      83.37%     83.71%     84.29%     84.01%\n",
       "Hernandez High School    80.87%     80.66%     81.40%     80.86%\n",
       "Holden High School       83.68%     83.32%     83.82%     84.70%\n",
       "Huang High School        81.29%     81.51%     81.42%     80.31%\n",
       "Johnson High School      81.26%     80.77%     80.62%     81.23%\n",
       "Pena High School         83.81%     83.61%     84.34%     84.59%\n",
       "Rodriguez High School    80.99%     80.63%     80.86%     80.38%\n",
       "Shelton High School      84.12%     83.44%     84.37%     82.78%\n",
       "Thomas High School       83.73%     84.25%     83.59%     83.83%\n",
       "Wilson High School       83.94%     84.02%     83.76%     84.32%\n",
       "Wright High School       83.83%     83.81%     84.16%     84.07%"
      ]
     },
     "execution_count": 21,
     "metadata": {},
     "output_type": "execute_result"
    }
   ],
   "source": [
    "avreadingscores_bygrade_df = pd.DataFrame({'9th grade': avreadingscores_9grade, '10th grade': avreadingscores_10grade, \n",
    "                                     '11th grade': avreadingscores_11grade, '12th grade': avreadingscores_12grade})\n",
    "\n",
    "avreadingscores_bygrade_df['9th grade'] = avreadingscores_bygrade_df['9th grade'].apply('{:,.2f}%'.format)\n",
    "avreadingscores_bygrade_df['10th grade'] = avreadingscores_bygrade_df['10th grade'].apply('{:,.2f}%'.format)\n",
    "avreadingscores_bygrade_df['11th grade'] = avreadingscores_bygrade_df['11th grade'].apply('{:,.2f}%'.format)\n",
    "avreadingscores_bygrade_df['12th grade'] = avreadingscores_bygrade_df['12th grade'].apply('{:,.2f}%'.format)\n",
    "\n",
    "avreadingscores_bygrade_df"
   ]
  },
  {
   "cell_type": "markdown",
   "metadata": {},
   "source": [
    "## Scores by School Spending"
   ]
  },
  {
   "cell_type": "markdown",
   "metadata": {},
   "source": [
    "* Create a table that breaks down school performances based on average Spending Ranges (Per Student). Use 4 reasonable bins to group school spending. Include in the table each of the following:\n",
    "  * Average Math Score\n",
    "  * Average Reading Score\n",
    "  * % Passing Math\n",
    "  * % Passing Reading\n",
    "  * Overall Passing Rate (Average of the above two)"
   ]
  },
  {
   "cell_type": "code",
   "execution_count": 22,
   "metadata": {},
   "outputs": [
    {
     "ename": "NameError",
     "evalue": "name 'school_type' is not defined",
     "output_type": "error",
     "traceback": [
      "\u001b[0;31m---------------------------------------------------------------------------\u001b[0m",
      "\u001b[0;31mNameError\u001b[0m                                 Traceback (most recent call last)",
      "\u001b[0;32m<ipython-input-22-59233af778e8>\u001b[0m in \u001b[0;36m<module>\u001b[0;34m\u001b[0m\n\u001b[1;32m      1\u001b[0m school_summary_2df = pd.DataFrame({\n\u001b[0;32m----> 2\u001b[0;31m     \u001b[0;34m'School Type'\u001b[0m\u001b[0;34m:\u001b[0m \u001b[0mschool_type\u001b[0m\u001b[0;34m,\u001b[0m \u001b[0;34m'Total Students'\u001b[0m\u001b[0;34m:\u001b[0m \u001b[0mtotal_schoolstudents\u001b[0m\u001b[0;34m,\u001b[0m\u001b[0;34m\u001b[0m\u001b[0;34m\u001b[0m\u001b[0m\n\u001b[0m\u001b[1;32m      3\u001b[0m     \u001b[0;34m'Total School Budget'\u001b[0m\u001b[0;34m:\u001b[0m \u001b[0mtotal_schoolbudget\u001b[0m\u001b[0;34m,\u001b[0m \u001b[0;34m'Per Student Budget'\u001b[0m\u001b[0;34m:\u001b[0m \u001b[0mperstudent_schoolbudget\u001b[0m\u001b[0;34m,\u001b[0m\u001b[0;34m\u001b[0m\u001b[0;34m\u001b[0m\u001b[0m\n\u001b[1;32m      4\u001b[0m     \u001b[0;34m'Average Math Score'\u001b[0m\u001b[0;34m:\u001b[0m \u001b[0mschools_av_math\u001b[0m\u001b[0;34m,\u001b[0m \u001b[0;34m'Average Reading Score'\u001b[0m\u001b[0;34m:\u001b[0m \u001b[0mschools_av_reading\u001b[0m\u001b[0;34m,\u001b[0m\u001b[0;34m\u001b[0m\u001b[0;34m\u001b[0m\u001b[0m\n\u001b[1;32m      5\u001b[0m     \u001b[0;34m'% Passing Math'\u001b[0m\u001b[0;34m:\u001b[0m \u001b[0mschools_percentpassingmath\u001b[0m\u001b[0;34m,\u001b[0m \u001b[0;34m'% Passing Reading'\u001b[0m\u001b[0;34m:\u001b[0m \u001b[0mschools_percentpassingreading\u001b[0m\u001b[0;34m,\u001b[0m\u001b[0;34m\u001b[0m\u001b[0;34m\u001b[0m\u001b[0m\n",
      "\u001b[0;31mNameError\u001b[0m: name 'school_type' is not defined"
     ]
    }
   ],
   "source": [
    "school_summary_2df = pd.DataFrame({\n",
    "    'School Type': school_type, 'Total Students': total_schoolstudents, \n",
    "    'Total School Budget': total_schoolbudget, 'Per Student Budget': perstudent_schoolbudget, \n",
    "    'Average Math Score': schools_av_math, 'Average Reading Score': schools_av_reading,\n",
    "    '% Passing Math': schools_percentpassingmath, '% Passing Reading': schools_percentpassingreading,\n",
    "    'Overall Passing Rate': schools_overallpassingrate\n",
    "})"
   ]
  },
  {
   "cell_type": "code",
   "execution_count": 23,
   "metadata": {},
   "outputs": [],
   "source": [
    "# Sample bins. Feel free to create your own bins.\n",
    "bins = [0, 585, 615, 645, 675]\n",
    "group_names = [\"<$585\", \"$585-615\", \"$615-645\", \"$645-675\"]"
   ]
  },
  {
   "cell_type": "code",
   "execution_count": 24,
   "metadata": {},
   "outputs": [
    {
     "ename": "NameError",
     "evalue": "name 'school_summary_2df' is not defined",
     "output_type": "error",
     "traceback": [
      "\u001b[0;31m---------------------------------------------------------------------------\u001b[0m",
      "\u001b[0;31mNameError\u001b[0m                                 Traceback (most recent call last)",
      "\u001b[0;32m<ipython-input-24-95d10176d0a3>\u001b[0m in \u001b[0;36m<module>\u001b[0;34m\u001b[0m\n\u001b[0;32m----> 1\u001b[0;31m \u001b[0mschool_summary_2df\u001b[0m\u001b[0;34m[\u001b[0m\u001b[0;34m'Spending Ranges Per Student'\u001b[0m\u001b[0;34m]\u001b[0m \u001b[0;34m=\u001b[0m \u001b[0mpd\u001b[0m\u001b[0;34m.\u001b[0m\u001b[0mcut\u001b[0m\u001b[0;34m(\u001b[0m\u001b[0mschool_summary_2df\u001b[0m\u001b[0;34m[\u001b[0m\u001b[0;34m'Per Student Budget'\u001b[0m\u001b[0;34m]\u001b[0m\u001b[0;34m,\u001b[0m \u001b[0mbins\u001b[0m\u001b[0;34m,\u001b[0m \u001b[0mlabels\u001b[0m\u001b[0;34m=\u001b[0m\u001b[0mgroup_names\u001b[0m\u001b[0;34m)\u001b[0m\u001b[0;34m\u001b[0m\u001b[0;34m\u001b[0m\u001b[0m\n\u001b[0m",
      "\u001b[0;31mNameError\u001b[0m: name 'school_summary_2df' is not defined"
     ]
    }
   ],
   "source": [
    "school_summary_2df['Spending Ranges Per Student'] = pd.cut(school_summary_2df['Per Student Budget'], bins, labels=group_names)"
   ]
  },
  {
   "cell_type": "code",
   "execution_count": 25,
   "metadata": {},
   "outputs": [
    {
     "ename": "NameError",
     "evalue": "name 'school_summary_2df' is not defined",
     "output_type": "error",
     "traceback": [
      "\u001b[0;31m---------------------------------------------------------------------------\u001b[0m",
      "\u001b[0;31mNameError\u001b[0m                                 Traceback (most recent call last)",
      "\u001b[0;32m<ipython-input-25-5c8c52cbffed>\u001b[0m in \u001b[0;36m<module>\u001b[0;34m\u001b[0m\n\u001b[0;32m----> 1\u001b[0;31m \u001b[0mspending_groups\u001b[0m \u001b[0;34m=\u001b[0m \u001b[0mschool_summary_2df\u001b[0m\u001b[0;34m.\u001b[0m\u001b[0mgroupby\u001b[0m\u001b[0;34m(\u001b[0m\u001b[0;34m[\u001b[0m\u001b[0;34m'Spending Ranges Per Student'\u001b[0m\u001b[0;34m]\u001b[0m\u001b[0;34m)\u001b[0m\u001b[0;34m\u001b[0m\u001b[0;34m\u001b[0m\u001b[0m\n\u001b[0m\u001b[1;32m      2\u001b[0m \u001b[0;34m\u001b[0m\u001b[0m\n\u001b[1;32m      3\u001b[0m spending_groups[['Average Math Score', 'Average Reading Score', '% Passing Math', \n\u001b[1;32m      4\u001b[0m                  '% Passing Reading', 'Overall Passing Rate']].mean()\n",
      "\u001b[0;31mNameError\u001b[0m: name 'school_summary_2df' is not defined"
     ]
    }
   ],
   "source": [
    "spending_groups = school_summary_2df.groupby(['Spending Ranges Per Student'])\n",
    "\n",
    "spending_groups[['Average Math Score', 'Average Reading Score', '% Passing Math', \n",
    "                 '% Passing Reading', 'Overall Passing Rate']].mean()"
   ]
  },
  {
   "cell_type": "markdown",
   "metadata": {},
   "source": [
    "## Scores by School Size"
   ]
  },
  {
   "cell_type": "markdown",
   "metadata": {},
   "source": [
    "* Perform the same operations as above, based on school size."
   ]
  },
  {
   "cell_type": "code",
   "execution_count": 26,
   "metadata": {},
   "outputs": [
    {
     "ename": "NameError",
     "evalue": "name 'school_type' is not defined",
     "output_type": "error",
     "traceback": [
      "\u001b[0;31m---------------------------------------------------------------------------\u001b[0m",
      "\u001b[0;31mNameError\u001b[0m                                 Traceback (most recent call last)",
      "\u001b[0;32m<ipython-input-26-cddbe6732b30>\u001b[0m in \u001b[0;36m<module>\u001b[0;34m\u001b[0m\n\u001b[1;32m      1\u001b[0m school_summary_3df = pd.DataFrame({\n\u001b[0;32m----> 2\u001b[0;31m     \u001b[0;34m'School Type'\u001b[0m\u001b[0;34m:\u001b[0m \u001b[0mschool_type\u001b[0m\u001b[0;34m,\u001b[0m \u001b[0;34m'School Size'\u001b[0m\u001b[0;34m:\u001b[0m \u001b[0mschool_size\u001b[0m\u001b[0;34m,\u001b[0m \u001b[0;34m'Total Students'\u001b[0m\u001b[0;34m:\u001b[0m \u001b[0mtotal_schoolstudents\u001b[0m\u001b[0;34m,\u001b[0m\u001b[0;34m\u001b[0m\u001b[0;34m\u001b[0m\u001b[0m\n\u001b[0m\u001b[1;32m      3\u001b[0m     \u001b[0;34m'Total School Budget'\u001b[0m\u001b[0;34m:\u001b[0m \u001b[0mtotal_schoolbudget\u001b[0m\u001b[0;34m,\u001b[0m \u001b[0;34m'Per Student Budget'\u001b[0m\u001b[0;34m:\u001b[0m \u001b[0mperstudent_schoolbudget\u001b[0m\u001b[0;34m,\u001b[0m\u001b[0;34m\u001b[0m\u001b[0;34m\u001b[0m\u001b[0m\n\u001b[1;32m      4\u001b[0m     \u001b[0;34m'Average Math Score'\u001b[0m\u001b[0;34m:\u001b[0m \u001b[0mschools_av_math\u001b[0m\u001b[0;34m,\u001b[0m \u001b[0;34m'Average Reading Score'\u001b[0m\u001b[0;34m:\u001b[0m \u001b[0mschools_av_reading\u001b[0m\u001b[0;34m,\u001b[0m\u001b[0;34m\u001b[0m\u001b[0;34m\u001b[0m\u001b[0m\n\u001b[1;32m      5\u001b[0m     \u001b[0;34m'% Passing Math'\u001b[0m\u001b[0;34m:\u001b[0m \u001b[0mschools_percentpassingmath\u001b[0m\u001b[0;34m,\u001b[0m \u001b[0;34m'% Passing Reading'\u001b[0m\u001b[0;34m:\u001b[0m \u001b[0mschools_percentpassingreading\u001b[0m\u001b[0;34m,\u001b[0m\u001b[0;34m\u001b[0m\u001b[0;34m\u001b[0m\u001b[0m\n",
      "\u001b[0;31mNameError\u001b[0m: name 'school_type' is not defined"
     ]
    }
   ],
   "source": [
    "school_summary_3df = pd.DataFrame({\n",
    "    'School Type': school_type, 'School Size': school_size, 'Total Students': total_schoolstudents, \n",
    "    'Total School Budget': total_schoolbudget, 'Per Student Budget': perstudent_schoolbudget, \n",
    "    'Average Math Score': schools_av_math, 'Average Reading Score': schools_av_reading,\n",
    "    '% Passing Math': schools_percentpassingmath, '% Passing Reading': schools_percentpassingreading,\n",
    "    'Overall Passing Rate': schools_overallpassingrate\n",
    "})"
   ]
  },
  {
   "cell_type": "code",
   "execution_count": 27,
   "metadata": {},
   "outputs": [],
   "source": [
    "# Sample bins. Feel free to create your own bins.\n",
    "size_bins = [0, 1000, 2000, 5000]\n",
    "group_names = [\"Small (<1000)\", \"Medium (1000-2000)\", \"Large (2000-5000)\"]"
   ]
  },
  {
   "cell_type": "code",
   "execution_count": 28,
   "metadata": {
    "scrolled": true
   },
   "outputs": [
    {
     "ename": "NameError",
     "evalue": "name 'school_summary_3df' is not defined",
     "output_type": "error",
     "traceback": [
      "\u001b[0;31m---------------------------------------------------------------------------\u001b[0m",
      "\u001b[0;31mNameError\u001b[0m                                 Traceback (most recent call last)",
      "\u001b[0;32m<ipython-input-28-7eedc9176ca9>\u001b[0m in \u001b[0;36m<module>\u001b[0;34m\u001b[0m\n\u001b[0;32m----> 1\u001b[0;31m \u001b[0mschool_summary_3df\u001b[0m\u001b[0;34m[\u001b[0m\u001b[0;34m'School Size'\u001b[0m\u001b[0;34m]\u001b[0m \u001b[0;34m=\u001b[0m \u001b[0mpd\u001b[0m\u001b[0;34m.\u001b[0m\u001b[0mcut\u001b[0m\u001b[0;34m(\u001b[0m\u001b[0mschool_summary_3df\u001b[0m\u001b[0;34m[\u001b[0m\u001b[0;34m'School Size'\u001b[0m\u001b[0;34m]\u001b[0m\u001b[0;34m,\u001b[0m \u001b[0msize_bins\u001b[0m\u001b[0;34m,\u001b[0m \u001b[0mlabels\u001b[0m\u001b[0;34m=\u001b[0m\u001b[0mgroup_names\u001b[0m\u001b[0;34m)\u001b[0m\u001b[0;34m\u001b[0m\u001b[0;34m\u001b[0m\u001b[0m\n\u001b[0m",
      "\u001b[0;31mNameError\u001b[0m: name 'school_summary_3df' is not defined"
     ]
    }
   ],
   "source": [
    "school_summary_3df['School Size'] = pd.cut(school_summary_3df['School Size'], size_bins, labels=group_names)"
   ]
  },
  {
   "cell_type": "code",
   "execution_count": 29,
   "metadata": {},
   "outputs": [
    {
     "ename": "NameError",
     "evalue": "name 'school_summary_3df' is not defined",
     "output_type": "error",
     "traceback": [
      "\u001b[0;31m---------------------------------------------------------------------------\u001b[0m",
      "\u001b[0;31mNameError\u001b[0m                                 Traceback (most recent call last)",
      "\u001b[0;32m<ipython-input-29-497070ad12aa>\u001b[0m in \u001b[0;36m<module>\u001b[0;34m\u001b[0m\n\u001b[0;32m----> 1\u001b[0;31m \u001b[0msize_groups\u001b[0m \u001b[0;34m=\u001b[0m \u001b[0mschool_summary_3df\u001b[0m\u001b[0;34m.\u001b[0m\u001b[0mgroupby\u001b[0m\u001b[0;34m(\u001b[0m\u001b[0;34m[\u001b[0m\u001b[0;34m'School Size'\u001b[0m\u001b[0;34m]\u001b[0m\u001b[0;34m)\u001b[0m\u001b[0;34m\u001b[0m\u001b[0;34m\u001b[0m\u001b[0m\n\u001b[0m\u001b[1;32m      2\u001b[0m \u001b[0;34m\u001b[0m\u001b[0m\n\u001b[1;32m      3\u001b[0m size_groups[['Average Math Score', 'Average Reading Score', '% Passing Math', \n\u001b[1;32m      4\u001b[0m                  '% Passing Reading', 'Overall Passing Rate']].mean()\n",
      "\u001b[0;31mNameError\u001b[0m: name 'school_summary_3df' is not defined"
     ]
    }
   ],
   "source": [
    "size_groups = school_summary_3df.groupby(['School Size'])\n",
    "\n",
    "size_groups[['Average Math Score', 'Average Reading Score', '% Passing Math', \n",
    "                 '% Passing Reading', 'Overall Passing Rate']].mean()"
   ]
  },
  {
   "cell_type": "markdown",
   "metadata": {},
   "source": [
    "## Scores by School Type"
   ]
  },
  {
   "cell_type": "markdown",
   "metadata": {},
   "source": [
    "* Perform the same operations as above, based on school type."
   ]
  },
  {
   "cell_type": "code",
   "execution_count": 30,
   "metadata": {},
   "outputs": [
    {
     "ename": "NameError",
     "evalue": "name 'school_type' is not defined",
     "output_type": "error",
     "traceback": [
      "\u001b[0;31m---------------------------------------------------------------------------\u001b[0m",
      "\u001b[0;31mNameError\u001b[0m                                 Traceback (most recent call last)",
      "\u001b[0;32m<ipython-input-30-39e2a823d636>\u001b[0m in \u001b[0;36m<module>\u001b[0;34m\u001b[0m\n\u001b[1;32m      1\u001b[0m school_summary_4df = pd.DataFrame({\n\u001b[0;32m----> 2\u001b[0;31m     \u001b[0;34m'School Type'\u001b[0m\u001b[0;34m:\u001b[0m \u001b[0mschool_type\u001b[0m\u001b[0;34m,\u001b[0m \u001b[0;34m'School Size'\u001b[0m\u001b[0;34m:\u001b[0m \u001b[0mschool_size\u001b[0m\u001b[0;34m,\u001b[0m \u001b[0;34m'Total Students'\u001b[0m\u001b[0;34m:\u001b[0m \u001b[0mtotal_schoolstudents\u001b[0m\u001b[0;34m,\u001b[0m\u001b[0;34m\u001b[0m\u001b[0;34m\u001b[0m\u001b[0m\n\u001b[0m\u001b[1;32m      3\u001b[0m     \u001b[0;34m'Total School Budget'\u001b[0m\u001b[0;34m:\u001b[0m \u001b[0mtotal_schoolbudget\u001b[0m\u001b[0;34m,\u001b[0m \u001b[0;34m'Per Student Budget'\u001b[0m\u001b[0;34m:\u001b[0m \u001b[0mperstudent_schoolbudget\u001b[0m\u001b[0;34m,\u001b[0m\u001b[0;34m\u001b[0m\u001b[0;34m\u001b[0m\u001b[0m\n\u001b[1;32m      4\u001b[0m     \u001b[0;34m'Average Math Score'\u001b[0m\u001b[0;34m:\u001b[0m \u001b[0mschools_av_math\u001b[0m\u001b[0;34m,\u001b[0m \u001b[0;34m'Average Reading Score'\u001b[0m\u001b[0;34m:\u001b[0m \u001b[0mschools_av_reading\u001b[0m\u001b[0;34m,\u001b[0m\u001b[0;34m\u001b[0m\u001b[0;34m\u001b[0m\u001b[0m\n\u001b[1;32m      5\u001b[0m     \u001b[0;34m'% Passing Math'\u001b[0m\u001b[0;34m:\u001b[0m \u001b[0mschools_percentpassingmath\u001b[0m\u001b[0;34m,\u001b[0m \u001b[0;34m'% Passing Reading'\u001b[0m\u001b[0;34m:\u001b[0m \u001b[0mschools_percentpassingreading\u001b[0m\u001b[0;34m,\u001b[0m\u001b[0;34m\u001b[0m\u001b[0;34m\u001b[0m\u001b[0m\n",
      "\u001b[0;31mNameError\u001b[0m: name 'school_type' is not defined"
     ]
    }
   ],
   "source": [
    "school_summary_4df = pd.DataFrame({\n",
    "    'School Type': school_type, 'School Size': school_size, 'Total Students': total_schoolstudents, \n",
    "    'Total School Budget': total_schoolbudget, 'Per Student Budget': perstudent_schoolbudget, \n",
    "    'Average Math Score': schools_av_math, 'Average Reading Score': schools_av_reading,\n",
    "    '% Passing Math': schools_percentpassingmath, '% Passing Reading': schools_percentpassingreading,\n",
    "    'Overall Passing Rate': schools_overallpassingrate\n",
    "})"
   ]
  },
  {
   "cell_type": "code",
   "execution_count": 31,
   "metadata": {},
   "outputs": [
    {
     "ename": "NameError",
     "evalue": "name 'school_summary_4df' is not defined",
     "output_type": "error",
     "traceback": [
      "\u001b[0;31m---------------------------------------------------------------------------\u001b[0m",
      "\u001b[0;31mNameError\u001b[0m                                 Traceback (most recent call last)",
      "\u001b[0;32m<ipython-input-31-a69ab25dcb22>\u001b[0m in \u001b[0;36m<module>\u001b[0;34m\u001b[0m\n\u001b[0;32m----> 1\u001b[0;31m \u001b[0mtype_groups\u001b[0m \u001b[0;34m=\u001b[0m \u001b[0mschool_summary_4df\u001b[0m\u001b[0;34m.\u001b[0m\u001b[0mgroupby\u001b[0m\u001b[0;34m(\u001b[0m\u001b[0;34m[\u001b[0m\u001b[0;34m'School Type'\u001b[0m\u001b[0;34m]\u001b[0m\u001b[0;34m)\u001b[0m\u001b[0;34m\u001b[0m\u001b[0;34m\u001b[0m\u001b[0m\n\u001b[0m\u001b[1;32m      2\u001b[0m \u001b[0;34m\u001b[0m\u001b[0m\n\u001b[1;32m      3\u001b[0m type_groups[['Average Math Score', 'Average Reading Score', '% Passing Math', \n\u001b[1;32m      4\u001b[0m                  '% Passing Reading', 'Overall Passing Rate']].mean()\n",
      "\u001b[0;31mNameError\u001b[0m: name 'school_summary_4df' is not defined"
     ]
    }
   ],
   "source": [
    "type_groups = school_summary_4df.groupby(['School Type'])\n",
    "\n",
    "type_groups[['Average Math Score', 'Average Reading Score', '% Passing Math', \n",
    "                 '% Passing Reading', 'Overall Passing Rate']].mean()"
   ]
  },
  {
   "cell_type": "code",
   "execution_count": null,
   "metadata": {},
   "outputs": [],
   "source": []
  },
  {
   "cell_type": "code",
   "execution_count": null,
   "metadata": {},
   "outputs": [],
   "source": []
  },
  {
   "cell_type": "code",
   "execution_count": null,
   "metadata": {},
   "outputs": [],
   "source": []
  }
 ],
 "metadata": {
  "anaconda-cloud": {},
  "kernel_info": {
   "name": "python3"
  },
  "kernelspec": {
   "display_name": "Python 3",
   "language": "python",
   "name": "python3"
  },
  "language_info": {
   "codemirror_mode": {
    "name": "ipython",
    "version": 3
   },
   "file_extension": ".py",
   "mimetype": "text/x-python",
   "name": "python",
   "nbconvert_exporter": "python",
   "pygments_lexer": "ipython3",
   "version": "3.7.3"
  },
  "latex_envs": {
   "LaTeX_envs_menu_present": true,
   "autoclose": false,
   "autocomplete": true,
   "bibliofile": "biblio.bib",
   "cite_by": "apalike",
   "current_citInitial": 1,
   "eqLabelWithNumbers": true,
   "eqNumInitial": 1,
   "hotkeys": {
    "equation": "Ctrl-E",
    "itemize": "Ctrl-I"
   },
   "labels_anchors": false,
   "latex_user_defs": false,
   "report_style_numbering": false,
   "user_envs_cfg": false
  },
  "nteract": {
   "version": "0.8.4"
  }
 },
 "nbformat": 4,
 "nbformat_minor": 1
}
