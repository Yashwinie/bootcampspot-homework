{
 "cells": [
  {
   "cell_type": "code",
   "execution_count": 4,
   "metadata": {
    "scrolled": true
   },
   "outputs": [],
   "source": [
    "#Dependencies and setup\n",
    "\n",
    "import matplotlib.pyplot as plt\n",
    "import pandas as pd\n",
    "import requests\n",
    "import time\n",
    "import random\n",
    "\n",
    "#importing api keys\n",
    "from api_keys import api_key\n",
    "\n",
    "#Incorporating citipy for city latitude and longitude analysis\n",
    "from citipy import citipy\n",
    "\n",
    "#output file as csv\n",
    "output_data_file = \"output_data/cities.csv\"\n",
    "\n",
    "#range of latitudes and longitudes that we'll be investigating with random\n",
    "lat_range = (-90, 90)\n",
    "lng_range = (-180, 180)"
   ]
  },
  {
   "cell_type": "code",
   "execution_count": 5,
   "metadata": {},
   "outputs": [],
   "source": [
    "#create a list for holding latitudes+longitudes (i.e. locations) and cities\n",
    "lat_lngs = []\n",
    "cities = []\n",
    "\n",
    "#create a set of random lat and long combinations \n",
    "lats = np.random.uniform(low=-90.000, high=90.000, size=1500)\n",
    "lng = np.random.uniform(low=-180.000, high=180.000, size=1500)\n",
    "lat_lngs = zip(lats, lngs)\n",
    "\n"
   ]
  }
 ],
 "metadata": {
  "kernelspec": {
   "display_name": "Python 3",
   "language": "python",
   "name": "python3"
  },
  "language_info": {
   "codemirror_mode": {
    "name": "ipython",
    "version": 3
   },
   "file_extension": ".py",
   "mimetype": "text/x-python",
   "name": "python",
   "nbconvert_exporter": "python",
   "pygments_lexer": "ipython3",
   "version": "3.7.3"
  }
 },
 "nbformat": 4,
 "nbformat_minor": 2
}
